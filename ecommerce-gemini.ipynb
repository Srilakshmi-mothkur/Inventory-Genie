{
 "cells": [
  {
   "cell_type": "code",
   "execution_count": 144,
   "metadata": {},
   "outputs": [],
   "source": [
    "import pandas as pd\n",
    "import numpy as np \n",
    "from datetime import datetime, timedelta"
   ]
  },
  {
   "cell_type": "code",
   "execution_count": 145,
   "metadata": {},
   "outputs": [],
   "source": [
    "np.random.seed(42)"
   ]
  },
  {
   "cell_type": "code",
   "execution_count": 146,
   "metadata": {},
   "outputs": [],
   "source": [
    "num_orders = 10000\n",
    "num_products = 100\n",
    "num_machines = 20"
   ]
  },
  {
   "cell_type": "code",
   "execution_count": 147,
   "metadata": {},
   "outputs": [],
   "source": [
    "order_data = {\n",
    "    \"order_id\": range(1, num_orders + 1),\n",
    "    \"order_date\": [datetime.now() - timedelta(days=int(np.random.randint(1, 15))) for _ in range(num_orders)],\n",
    "    \"product_id\": np.random.randint(1, num_products + 1, num_orders),\n",
    "    \"quantity_ordered\": np.random.randint(1, 10, num_orders),\n",
    "}"
   ]
  },
  {
   "cell_type": "code",
   "execution_count": 148,
   "metadata": {},
   "outputs": [],
   "source": [
    "df_orders = pd.DataFrame(order_data)"
   ]
  },
  {
   "cell_type": "code",
   "execution_count": 149,
   "metadata": {},
   "outputs": [],
   "source": [
    "warehouse_data = {\n",
    "    \"product_id\": range(1, num_products + 1),\n",
    "    \"product_name\": [f\"product_{i}\" for i in range(1, num_products + 1)],\n",
    "    \"quantity_in_stock\": np.random.randint(0, 20, num_products),\n",
    "    \"machine_no\": [f\"mac-{np.random.randint(1, num_machines+1)}\" for _ in range(num_products)],\n",
    "    \"available_date\": [datetime.now() + timedelta(days=int(np.random.randint(1, 8))) for _ in range(num_products)]\n",
    "}"
   ]
  },
  {
   "cell_type": "code",
   "execution_count": 150,
   "metadata": {},
   "outputs": [],
   "source": [
    "df_warehouse = pd.DataFrame(warehouse_data)"
   ]
  },
  {
   "cell_type": "code",
   "execution_count": 151,
   "metadata": {},
   "outputs": [],
   "source": [
    "shipment_data = {\n",
    "    \"order_id\": range(1, num_orders + 1),\n",
    "    \"expected_delivery_date\": [datetime.now() + timedelta(days=int(np.random.randint(1, 10))) for _ in range(num_orders)]\n",
    "}"
   ]
  },
  {
   "cell_type": "code",
   "execution_count": 152,
   "metadata": {},
   "outputs": [],
   "source": [
    "df_shipments = pd.DataFrame(shipment_data)"
   ]
  },
  {
   "cell_type": "code",
   "execution_count": 153,
   "metadata": {},
   "outputs": [],
   "source": [
    "df_orders.to_csv('orders.csv', index=False)\n",
    "df_warehouse.to_csv('warehouse.csv', index=False)\n",
    "df_shipments.to_csv('shipments.csv', index=False)"
   ]
  },
  {
   "cell_type": "code",
   "execution_count": 154,
   "metadata": {},
   "outputs": [
    {
     "name": "stdout",
     "output_type": "stream",
     "text": [
      "Orders DataFrame:\n"
     ]
    },
    {
     "data": {
      "text/html": [
       "<div>\n",
       "<style scoped>\n",
       "    .dataframe tbody tr th:only-of-type {\n",
       "        vertical-align: middle;\n",
       "    }\n",
       "\n",
       "    .dataframe tbody tr th {\n",
       "        vertical-align: top;\n",
       "    }\n",
       "\n",
       "    .dataframe thead th {\n",
       "        text-align: right;\n",
       "    }\n",
       "</style>\n",
       "<table border=\"1\" class=\"dataframe\">\n",
       "  <thead>\n",
       "    <tr style=\"text-align: right;\">\n",
       "      <th></th>\n",
       "      <th>order_id</th>\n",
       "      <th>order_date</th>\n",
       "      <th>product_id</th>\n",
       "      <th>quantity_ordered</th>\n",
       "    </tr>\n",
       "  </thead>\n",
       "  <tbody>\n",
       "    <tr>\n",
       "      <th>0</th>\n",
       "      <td>1</td>\n",
       "      <td>2024-06-20 17:20:53.963224</td>\n",
       "      <td>41</td>\n",
       "      <td>3</td>\n",
       "    </tr>\n",
       "    <tr>\n",
       "      <th>1</th>\n",
       "      <td>2</td>\n",
       "      <td>2024-06-23 17:20:53.963224</td>\n",
       "      <td>50</td>\n",
       "      <td>9</td>\n",
       "    </tr>\n",
       "    <tr>\n",
       "      <th>2</th>\n",
       "      <td>3</td>\n",
       "      <td>2024-06-14 17:20:53.963224</td>\n",
       "      <td>87</td>\n",
       "      <td>3</td>\n",
       "    </tr>\n",
       "    <tr>\n",
       "      <th>3</th>\n",
       "      <td>4</td>\n",
       "      <td>2024-06-16 17:20:53.963224</td>\n",
       "      <td>71</td>\n",
       "      <td>7</td>\n",
       "    </tr>\n",
       "    <tr>\n",
       "      <th>4</th>\n",
       "      <td>5</td>\n",
       "      <td>2024-06-19 17:20:53.963224</td>\n",
       "      <td>59</td>\n",
       "      <td>4</td>\n",
       "    </tr>\n",
       "  </tbody>\n",
       "</table>\n",
       "</div>"
      ],
      "text/plain": [
       "   order_id                 order_date  product_id  quantity_ordered\n",
       "0         1 2024-06-20 17:20:53.963224          41                 3\n",
       "1         2 2024-06-23 17:20:53.963224          50                 9\n",
       "2         3 2024-06-14 17:20:53.963224          87                 3\n",
       "3         4 2024-06-16 17:20:53.963224          71                 7\n",
       "4         5 2024-06-19 17:20:53.963224          59                 4"
      ]
     },
     "execution_count": 154,
     "metadata": {},
     "output_type": "execute_result"
    }
   ],
   "source": [
    "print(\"Orders DataFrame:\")\n",
    "df_orders.head()"
   ]
  },
  {
   "cell_type": "code",
   "execution_count": 155,
   "metadata": {},
   "outputs": [
    {
     "name": "stdout",
     "output_type": "stream",
     "text": [
      "Warehouse DataFrame:\n"
     ]
    },
    {
     "data": {
      "text/html": [
       "<div>\n",
       "<style scoped>\n",
       "    .dataframe tbody tr th:only-of-type {\n",
       "        vertical-align: middle;\n",
       "    }\n",
       "\n",
       "    .dataframe tbody tr th {\n",
       "        vertical-align: top;\n",
       "    }\n",
       "\n",
       "    .dataframe thead th {\n",
       "        text-align: right;\n",
       "    }\n",
       "</style>\n",
       "<table border=\"1\" class=\"dataframe\">\n",
       "  <thead>\n",
       "    <tr style=\"text-align: right;\">\n",
       "      <th></th>\n",
       "      <th>product_id</th>\n",
       "      <th>product_name</th>\n",
       "      <th>quantity_in_stock</th>\n",
       "      <th>machine_no</th>\n",
       "      <th>available_date</th>\n",
       "    </tr>\n",
       "  </thead>\n",
       "  <tbody>\n",
       "    <tr>\n",
       "      <th>0</th>\n",
       "      <td>1</td>\n",
       "      <td>product_1</td>\n",
       "      <td>2</td>\n",
       "      <td>mac-17</td>\n",
       "      <td>2024-06-30 17:20:54.097312</td>\n",
       "    </tr>\n",
       "    <tr>\n",
       "      <th>1</th>\n",
       "      <td>2</td>\n",
       "      <td>product_2</td>\n",
       "      <td>14</td>\n",
       "      <td>mac-13</td>\n",
       "      <td>2024-06-28 17:20:54.097312</td>\n",
       "    </tr>\n",
       "    <tr>\n",
       "      <th>2</th>\n",
       "      <td>3</td>\n",
       "      <td>product_3</td>\n",
       "      <td>4</td>\n",
       "      <td>mac-6</td>\n",
       "      <td>2024-06-30 17:20:54.097312</td>\n",
       "    </tr>\n",
       "    <tr>\n",
       "      <th>3</th>\n",
       "      <td>4</td>\n",
       "      <td>product_4</td>\n",
       "      <td>2</td>\n",
       "      <td>mac-8</td>\n",
       "      <td>2024-07-04 17:20:54.097312</td>\n",
       "    </tr>\n",
       "    <tr>\n",
       "      <th>4</th>\n",
       "      <td>5</td>\n",
       "      <td>product_5</td>\n",
       "      <td>5</td>\n",
       "      <td>mac-6</td>\n",
       "      <td>2024-06-30 17:20:54.097312</td>\n",
       "    </tr>\n",
       "  </tbody>\n",
       "</table>\n",
       "</div>"
      ],
      "text/plain": [
       "   product_id product_name  quantity_in_stock machine_no  \\\n",
       "0           1    product_1                  2     mac-17   \n",
       "1           2    product_2                 14     mac-13   \n",
       "2           3    product_3                  4      mac-6   \n",
       "3           4    product_4                  2      mac-8   \n",
       "4           5    product_5                  5      mac-6   \n",
       "\n",
       "              available_date  \n",
       "0 2024-06-30 17:20:54.097312  \n",
       "1 2024-06-28 17:20:54.097312  \n",
       "2 2024-06-30 17:20:54.097312  \n",
       "3 2024-07-04 17:20:54.097312  \n",
       "4 2024-06-30 17:20:54.097312  "
      ]
     },
     "execution_count": 155,
     "metadata": {},
     "output_type": "execute_result"
    }
   ],
   "source": [
    "print(\"Warehouse DataFrame:\")\n",
    "df_warehouse.head()"
   ]
  },
  {
   "cell_type": "code",
   "execution_count": 156,
   "metadata": {},
   "outputs": [
    {
     "name": "stdout",
     "output_type": "stream",
     "text": [
      "Shipments DataFrame:\n"
     ]
    },
    {
     "data": {
      "text/html": [
       "<div>\n",
       "<style scoped>\n",
       "    .dataframe tbody tr th:only-of-type {\n",
       "        vertical-align: middle;\n",
       "    }\n",
       "\n",
       "    .dataframe tbody tr th {\n",
       "        vertical-align: top;\n",
       "    }\n",
       "\n",
       "    .dataframe thead th {\n",
       "        text-align: right;\n",
       "    }\n",
       "</style>\n",
       "<table border=\"1\" class=\"dataframe\">\n",
       "  <thead>\n",
       "    <tr style=\"text-align: right;\">\n",
       "      <th></th>\n",
       "      <th>order_id</th>\n",
       "      <th>expected_delivery_date</th>\n",
       "    </tr>\n",
       "  </thead>\n",
       "  <tbody>\n",
       "    <tr>\n",
       "      <th>0</th>\n",
       "      <td>1</td>\n",
       "      <td>2024-07-05 17:20:54.155528</td>\n",
       "    </tr>\n",
       "    <tr>\n",
       "      <th>1</th>\n",
       "      <td>2</td>\n",
       "      <td>2024-07-06 17:20:54.155528</td>\n",
       "    </tr>\n",
       "    <tr>\n",
       "      <th>2</th>\n",
       "      <td>3</td>\n",
       "      <td>2024-07-04 17:20:54.155528</td>\n",
       "    </tr>\n",
       "    <tr>\n",
       "      <th>3</th>\n",
       "      <td>4</td>\n",
       "      <td>2024-07-04 17:20:54.155528</td>\n",
       "    </tr>\n",
       "    <tr>\n",
       "      <th>4</th>\n",
       "      <td>5</td>\n",
       "      <td>2024-07-02 17:20:54.155528</td>\n",
       "    </tr>\n",
       "  </tbody>\n",
       "</table>\n",
       "</div>"
      ],
      "text/plain": [
       "   order_id     expected_delivery_date\n",
       "0         1 2024-07-05 17:20:54.155528\n",
       "1         2 2024-07-06 17:20:54.155528\n",
       "2         3 2024-07-04 17:20:54.155528\n",
       "3         4 2024-07-04 17:20:54.155528\n",
       "4         5 2024-07-02 17:20:54.155528"
      ]
     },
     "execution_count": 156,
     "metadata": {},
     "output_type": "execute_result"
    }
   ],
   "source": [
    "print(\"Shipments DataFrame:\")\n",
    "df_shipments.head()"
   ]
  },
  {
   "cell_type": "code",
   "execution_count": 157,
   "metadata": {},
   "outputs": [],
   "source": [
    "import os"
   ]
  },
  {
   "cell_type": "code",
   "execution_count": 158,
   "metadata": {},
   "outputs": [],
   "source": [
    "from langchain_google_genai import ChatGoogleGenerativeAI\n",
    "from langchain_google_genai import GoogleGenerativeAIEmbeddings\n",
    "from langchain.prompts import PromptTemplate\n",
    "from langchain.chains.llm import LLMChain\n",
    "from sklearn.metrics.pairwise import cosine_similarity"
   ]
  },
  {
   "cell_type": "code",
   "execution_count": 162,
   "metadata": {},
   "outputs": [],
   "source": [
    "def check_availability(order_data, df_warehouse, df_shipments):\n",
    "\n",
    "    product_id = order_data[\"product_id\"]\n",
    "    quantity_ordered = order_data[\"quantity_ordered\"]\n",
    "\n",
    "    warehouse_stock = df_warehouse[df_warehouse[\"product_id\"] == product_id][\"quantity_in_stock\"].values[0]\n",
    "\n",
    "    if quantity_ordered <= warehouse_stock:\n",
    "        available_quantity = quantity_ordered\n",
    "        delayed_quantity = 0\n",
    "        expected_delivery_date = df_shipments[df_shipments[\"order_id\"] == order_data[\"order_id\"]][\n",
    "            \"expected_delivery_date\"\n",
    "        ].values[0]\n",
    "        df_warehouse.loc[df_warehouse[\"product_id\"] == product_id, \"quantity_in_stock\"] -= quantity_ordered\n",
    "\n",
    "    else:\n",
    "        available_quantity = warehouse_stock\n",
    "        delayed_quantity = quantity_ordered - warehouse_stock\n",
    "        df_warehouse.loc[df_warehouse[\"product_id\"] == product_id, \"quantity_in_stock\"] = 0\n",
    "        creation_time_per_product = 2  \n",
    "        additional_creation_time = int(delayed_quantity * creation_time_per_product)\n",
    "        available_date = df_warehouse[df_warehouse[\"product_id\"] == product_id][\"available_date\"].values[0]\n",
    "        available_date = pd.to_datetime(df_warehouse[df_warehouse[\"product_id\"] == product_id][\"available_date\"].values[0])\n",
    "        additional_seconds = additional_creation_time * 3600 \n",
    "        expected_delivery_date = available_date + timedelta(seconds=additional_seconds)\n",
    "\n",
    "    return available_quantity, delayed_quantity, expected_delivery_date"
   ]
  },
  {
   "cell_type": "code",
   "execution_count": 163,
   "metadata": {},
   "outputs": [],
   "source": [
    "def handle_order_availability(order_data, df_orders, df_warehouse, df_shipments):\n",
    "    llm = ChatGoogleGenerativeAI(api_key=os.getenv(\"GOOGLE_API_KEY\"), model=\"models/gemini-pro\", temperature=0.7)\n",
    "\n",
    "    prompt_template = PromptTemplate(\n",
    "        input_variables=[\"quantity_ordered\", \"product_id\", \"available_quantity\", \"delayed_quantity\", \"expected_delivery_date\"],\n",
    "        template=\"\"\"\n",
    "        You are a customer service representative for an e-commerce company. \n",
    "        The customer has placed an order for {quantity_ordered} units of product {product_id}. \n",
    "        Please check the availability of the product in the warehouse and inform the customer \n",
    "        about the expected delivery date. If there's insufficient stock, inform the customer \n",
    "        about the available quantity and the delayed delivery for the remaining units. \n",
    "        Available quantity: {available_quantity}, Delayed quantity: {delayed_quantity}, \n",
    "        Expected delivery date: {expected_delivery_date}.\n",
    "        What is the appropriate response to the customer?\n",
    "        \"\"\"\n",
    "    )\n",
    "    \n",
    "    available_quantity, delayed_quantity, expected_delivery_date = check_availability(order_data, df_warehouse, df_shipments)\n",
    "        \n",
    "    chain = LLMChain(\n",
    "        llm=llm,\n",
    "        prompt=prompt_template\n",
    "    )\n",
    "\n",
    "    response = chain.run({\n",
    "        \"quantity_ordered\": order_data[\"quantity_ordered\"],\n",
    "        \"product_id\": order_data[\"product_id\"],\n",
    "        \"available_quantity\": available_quantity,\n",
    "        \"delayed_quantity\": delayed_quantity,\n",
    "        \"expected_delivery_date\": expected_delivery_date,\n",
    "        # \"context\": context\n",
    "    })\n",
    "\n",
    "    return response"
   ]
  },
  {
   "cell_type": "code",
   "execution_count": 164,
   "metadata": {},
   "outputs": [
    {
     "name": "stdout",
     "output_type": "stream",
     "text": [
      "Customer Response:\n",
      "\"Thank you for your order for 4 units of product 59\n",
      "I have checked the availability in our warehouse and we currently have 4 units in stock\n",
      "Therefore, all 4 units will be dispatched today and you can expect delivery by 2024-07-02T17:20:54.155528000\n",
      "Please let us know if you have any further questions.\"\n"
     ]
    }
   ],
   "source": [
    "def format_response(response):\n",
    "    return \"\\n\".join(response.split(\". \"))\n",
    "\n",
    "try:\n",
    "    order_id = 5\n",
    "    order_data = df_orders[df_orders[\"order_id\"] == order_id].iloc[0].to_dict()\n",
    "    \n",
    "    response = handle_order_availability(order_data, df_orders, df_warehouse, df_shipments)\n",
    "    formatted_response = format_response(response)\n",
    "    print(f\"Customer Response:\\n{formatted_response}\")\n",
    "\n",
    "except Exception as e:\n",
    "    print(f\"An error occurred: {e}\")"
   ]
  },
  {
   "cell_type": "code",
   "execution_count": 165,
   "metadata": {},
   "outputs": [
    {
     "name": "stderr",
     "output_type": "stream",
     "text": [
      "c:\\Users\\Raghurama Reddy\\Desktop\\summer24\\Bristlecone-ecommerce\\venv1\\Lib\\site-packages\\huggingface_hub\\file_download.py:1132: FutureWarning: `resume_download` is deprecated and will be removed in version 1.0.0. Downloads always resume when possible. If you want to force a new download, use `force_download=True`.\n",
      "  warnings.warn(\n"
     ]
    }
   ],
   "source": [
    "from sentence_transformers import SentenceTransformer\n",
    "import numpy as np\n",
    "\n",
    "model = SentenceTransformer('all-MiniLM-L6-v2')\n",
    "\n",
    "\n",
    "product_descriptions = df_warehouse.apply(lambda row: f\"Product ID: {row['product_id']}, Name: {row['product_name']}, Stock: {row['quantity_in_stock']}, Machine No: {row['machine_no']}, Available Date: {row['available_date']}\", axis=1).tolist()\n",
    "product_embeddings = model.encode(product_descriptions)\n",
    "np.save('product_embeddings.npy', product_embeddings)\n"
   ]
  },
  {
   "cell_type": "code",
   "execution_count": 166,
   "metadata": {},
   "outputs": [],
   "source": [
    "import faiss\n",
    "\n",
    "product_embeddings = np.load('product_embeddings.npy')\n",
    "dimension_products = product_embeddings.shape[1]\n",
    "products_index = faiss.IndexFlatL2(dimension_products)\n",
    "products_index.add(product_embeddings)\n"
   ]
  },
  {
   "cell_type": "code",
   "execution_count": 167,
   "metadata": {},
   "outputs": [],
   "source": [
    "def generate_query_embedding(query):\n",
    "    return model.encode([query])[0]"
   ]
  },
  {
   "cell_type": "code",
   "execution_count": 168,
   "metadata": {},
   "outputs": [],
   "source": [
    "def search_similar_products(query_embedding, top_k=5):\n",
    "    distances, indices = products_index.search(np.array([query_embedding]), top_k)\n",
    "    return indices[0]"
   ]
  },
  {
   "cell_type": "code",
   "execution_count": 169,
   "metadata": {},
   "outputs": [],
   "source": [
    "def generate_llm_response(query):\n",
    "    query_embedding = generate_query_embedding(query)\n",
    "\n",
    " \n",
    "\n",
    "    similar_product_indices = search_similar_products(query_embedding)\n",
    "    similar_products = df_warehouse.iloc[similar_product_indices]\n",
    "\n",
    "    prompt = f\"Customer asked: {query}\\n\\n\"\n",
    "\n",
    "\n",
    "    prompt += \"Similar products found:\\n\"\n",
    "    for index, row in similar_products.iterrows():\n",
    "        prompt += f\"Product ID: {row['product_id']}, Name: {row['product_name']}, Stock: {row['quantity_in_stock']}, Available Date: {row['available_date']}\\n\"\n",
    "\n",
    "    llm = ChatGoogleGenerativeAI(api_key=os.getenv(\"GOOGLE_API_KEY\"), model=\"models/gemini-pro\", temperature=0.7)\n",
    "\n",
    "    prompt_template = PromptTemplate(\n",
    "        input_variables=[\"prompt\"],\n",
    "        template=\"{prompt}\"\n",
    "    )\n",
    "\n",
    "    chain = LLMChain(\n",
    "        llm=llm,\n",
    "        prompt=prompt_template\n",
    "    )\n",
    "\n",
    "    response = chain.run({\n",
    "        \"prompt\": prompt\n",
    "    })\n",
    "\n",
    "    return response"
   ]
  },
  {
   "cell_type": "code",
   "execution_count": 171,
   "metadata": {},
   "outputs": [
    {
     "name": "stdout",
     "output_type": "stream",
     "text": [
      "Yes, the product with ID 1 is in stock. The stock is 2.\n",
      "No, we cannot meet the customer order for quantity 66 of product id 10 on June 30, 2024. The available stock for product id 10 is 4, and it will be available on June 29, 2024.\n",
      "2024-06-30\n"
     ]
    }
   ],
   "source": [
    "query1 = \"Are all the products ordered by product id 1 in stock?\"\n",
    "response1 = generate_llm_response(query1)\n",
    "print(response1)\n",
    "\n",
    "query2 = \"Can we meet a customer order for quantity 66 of product id 10 on June 30, 2024?\"\n",
    "response2 = generate_llm_response(query2)\n",
    "print(response2)\n",
    "\n",
    "query3 = \"When is the earliest that we can deliver order id 1 to the customer?\"\n",
    "response3 = generate_llm_response(query3)\n",
    "print(response3)\n"
   ]
  },
  {
   "cell_type": "code",
   "execution_count": null,
   "metadata": {},
   "outputs": [],
   "source": []
  }
 ],
 "metadata": {
  "kernelspec": {
   "display_name": "venv1",
   "language": "python",
   "name": "python3"
  },
  "language_info": {
   "codemirror_mode": {
    "name": "ipython",
    "version": 3
   },
   "file_extension": ".py",
   "mimetype": "text/x-python",
   "name": "python",
   "nbconvert_exporter": "python",
   "pygments_lexer": "ipython3",
   "version": "3.12.0"
  }
 },
 "nbformat": 4,
 "nbformat_minor": 2
}
